{
 "cells": [
  {
   "cell_type": "code",
   "execution_count": null,
   "metadata": {},
   "outputs": [],
   "source": []
  },
  {
   "attachments": {},
   "cell_type": "markdown",
   "metadata": {},
   "source": [
    "# Equipe\n",
    "\n",
    "Carlos Gabriel da Silva Machado\n",
    "\n",
    "Davi Rodrigues de França"
   ]
  }
 ],
 "metadata": {
  "kernelspec": {
   "display_name": "facul",
   "language": "python",
   "name": "python3"
  },
  "language_info": {
   "name": "python",
   "version": "3.9.16"
  },
  "orig_nbformat": 4
 },
 "nbformat": 4,
 "nbformat_minor": 2
}
