{
 "cells": [
  {
   "cell_type": "code",
   "execution_count": null,
   "metadata": {},
   "outputs": [],
   "source": []
  },
  {
   "attachments": {},
   "cell_type": "markdown",
   "metadata": {},
   "source": [
    "# Equipe\n",
    "\n",
    "Carlos Gabriel da Silva Machado - 1815080079\n",
    "\n",
    "Davi Rodrigues de França - 1915080053\n",
    "\n",
    "Gabriel Rabello Monteiro - 1915080011\n",
    "\n",
    "Josué Costa dos Santos Alves - 1715080615\n",
    "\n",
    "Victor Hugo Santos de Lima - 1915080025"
   ]
  }
 ],
 "metadata": {
  "kernelspec": {
   "display_name": "facul",
   "language": "python",
   "name": "python3"
  },
  "language_info": {
   "name": "python",
   "version": "3.9.16"
  },
  "orig_nbformat": 4
 },
 "nbformat": 4,
 "nbformat_minor": 2
}
